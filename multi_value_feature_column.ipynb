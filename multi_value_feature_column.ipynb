{
  "nbformat": 4,
  "nbformat_minor": 0,
  "metadata": {
    "colab": {
      "name": "Untitled3.ipynb",
      "provenance": [],
      "authorship_tag": "ABX9TyOuFp+0+uNTD7dXxLkpINzk",
      "include_colab_link": true
    },
    "kernelspec": {
      "name": "python3",
      "display_name": "Python 3"
    }
  },
  "cells": [
    {
      "cell_type": "markdown",
      "metadata": {
        "id": "view-in-github",
        "colab_type": "text"
      },
      "source": [
        "<a href=\"https://colab.research.google.com/github/tousyou/keras/blob/master/multi_value_feature_column.ipynb\" target=\"_parent\"><img src=\"https://colab.research.google.com/assets/colab-badge.svg\" alt=\"Open In Colab\"/></a>"
      ]
    },
    {
      "cell_type": "code",
      "metadata": {
        "id": "EK3YAmVrnOC4"
      },
      "source": [
        "import tensorflow as tf\n",
        "import numpy as np\n",
        "from collections import OrderedDict\n"
      ],
      "execution_count": 82,
      "outputs": []
    },
    {
      "cell_type": "code",
      "metadata": {
        "id": "F7RlrbHqwf6a",
        "outputId": "193ba570-ced1-44ce-a1cd-c41090cdf8fb",
        "colab": {
          "base_uri": "https://localhost:8080/",
          "height": 34
        }
      },
      "source": [
        "FEATURE_COLUMNS = ['Label']\n",
        "for i in range(1,14):\n",
        "  FEATURE_COLUMNS.append('I{0}'.format(i))\n",
        "FEATURE_COLUMNS.append('S1')\n",
        "print(FEATURE_COLUMNS)\n",
        "\n",
        "SELECT_COLUMNS = ['Label']\n",
        "for i in range(1,14):\n",
        "  SELECT_COLUMNS.append('I{0}'.format(i))"
      ],
      "execution_count": 83,
      "outputs": [
        {
          "output_type": "stream",
          "text": [
            "['Label', 'I1', 'I2', 'I3', 'I4', 'I5', 'I6', 'I7', 'I8', 'I9', 'I10', 'I11', 'I12', 'I13', 'S1']\n"
          ],
          "name": "stdout"
        }
      ]
    },
    {
      "cell_type": "code",
      "metadata": {
        "id": "dEjKw-wO6r5r",
        "outputId": "e97936c9-085b-42dd-a1ac-1d06b40a22f9",
        "colab": {
          "base_uri": "https://localhost:8080/",
          "height": 34
        }
      },
      "source": [
        "def _column_to_csv_defaults():\n",
        "  \"\"\"parse columns to record_defaults param in tf.decode_csv func\n",
        "    Return: \n",
        "      OrderedDict {'feature name': [''],...}\n",
        "  \"\"\"\n",
        "  csv_defaults = OrderedDict()\n",
        "  csv_defaults['Label'] = [0]  # first label default, empty if the field is must\n",
        "  for i in range(1,14):\n",
        "    csv_defaults['I{0}'.format(i)] = [0]\n",
        "  csv_defaults['S1'] = ['']\n",
        "  return csv_defaults\n",
        "\n",
        "csv_defaults = _column_to_csv_defaults()\n",
        "csv_defaults\n",
        "print(csv_defaults.values())\n",
        "\n",
        "def parser(value):\n",
        "  \"\"\"Parse train and eval data with label\n",
        "    Args:\n",
        "    value: Tensor(\"arg0:0\", shape=(), dtype=string)\n",
        "  \"\"\"\n",
        "  # `tf.decode_csv` return rank 0 Tensor list: <tf.Tensor 'DecodeCSV:60' shape=() dtype=string>\n",
        "  # na_value fill with record_defaults\n",
        "  columns = tf.io.decode_csv(\n",
        "                value, \n",
        "                record_defaults=list(csv_defaults.values()),\n",
        "                #record_defaults = csv_default_values,\n",
        "                use_quote_delim=False,\n",
        "                field_delim='\\t')\n",
        "  features = dict(zip(csv_defaults.keys(), columns))\n",
        "  for f, tensor in features.items():\n",
        "    if isinstance(csv_defaults[f][0], str):\n",
        "      # input must be rank 1, return SparseTensor\n",
        "      # print(st.values)  # <tf.Tensor 'StringSplit_11:1' shape=(?,) dtype=string>\n",
        "      #features[f] = tf.compat.v1.string_split([tensor], ',').values  # tensor shape (?,)\n",
        "      features[f] =  tf.strings.split([tensor], ',').to_tensor()\n",
        "    else:\n",
        "      features[f] = tf.expand_dims(tensor, 0)  # change shape from () to (1,)\n",
        "      \n",
        "  #labels = tf.equal(features.pop('label'), 1)\n",
        "  labels = features.pop('Label')\n",
        "  return features, labels"
      ],
      "execution_count": 123,
      "outputs": [
        {
          "output_type": "stream",
          "text": [
            "odict_values([[0], [0], [0], [0], [0], [0], [0], [0], [0], [0], [0], [0], [0], [0], ['']])\n"
          ],
          "name": "stdout"
        }
      ]
    },
    {
      "cell_type": "code",
      "metadata": {
        "id": "pJNtCpryx6Ow",
        "outputId": "ffa34f85-1754-42d4-b747-7af4c7244705",
        "colab": {
          "base_uri": "https://localhost:8080/",
          "height": 224
        }
      },
      "source": [
        "\"\"\"\n",
        "ds_train = tf.data.experimental.make_csv_dataset(\n",
        "    './sample_data/criteo.csv',\n",
        "    batch_size=1,\n",
        "    column_names = FEATURE_COLUMNS,\n",
        "    #select_columns = SELECT_COLUMNS,\n",
        "    label_name = 'Label',\n",
        "    field_delim = '\\t',\n",
        "    num_epochs =1\n",
        ")\n",
        "\"\"\"\n",
        "ds_train = tf.data.TextLineDataset('./sample_data/criteo.csv').map(lambda ex: parser(ex))\n",
        "\n",
        "examples, labels = next(iter(ds_train)) # 第一个批次\n",
        "print(\"EXAMPLES: \\n\", examples, \"\\n\")\n",
        "print(\"LABELS: \\n\", labels)"
      ],
      "execution_count": 124,
      "outputs": [
        {
          "output_type": "stream",
          "text": [
            "EXAMPLES: \n",
            " {'I1': <tf.Tensor: shape=(1,), dtype=int32, numpy=array([1], dtype=int32)>, 'I2': <tf.Tensor: shape=(1,), dtype=int32, numpy=array([1], dtype=int32)>, 'I3': <tf.Tensor: shape=(1,), dtype=int32, numpy=array([5], dtype=int32)>, 'I4': <tf.Tensor: shape=(1,), dtype=int32, numpy=array([0], dtype=int32)>, 'I5': <tf.Tensor: shape=(1,), dtype=int32, numpy=array([1382], dtype=int32)>, 'I6': <tf.Tensor: shape=(1,), dtype=int32, numpy=array([4], dtype=int32)>, 'I7': <tf.Tensor: shape=(1,), dtype=int32, numpy=array([15], dtype=int32)>, 'I8': <tf.Tensor: shape=(1,), dtype=int32, numpy=array([2], dtype=int32)>, 'I9': <tf.Tensor: shape=(1,), dtype=int32, numpy=array([181], dtype=int32)>, 'I10': <tf.Tensor: shape=(1,), dtype=int32, numpy=array([1], dtype=int32)>, 'I11': <tf.Tensor: shape=(1,), dtype=int32, numpy=array([2], dtype=int32)>, 'I12': <tf.Tensor: shape=(1,), dtype=int32, numpy=array([0], dtype=int32)>, 'I13': <tf.Tensor: shape=(1,), dtype=int32, numpy=array([2], dtype=int32)>, 'S1': <tf.Tensor: shape=(1, 26), dtype=string, numpy=\n",
            "array([[b'68fd1e64', b'80e26c9b', b'fb936136', b'7b4723c4', b'25c83c98',\n",
            "        b'7e0ccccf', b'de7995b8', b'1f89b562', b'a73ee510', b'a8cd5504',\n",
            "        b'b2cb9c98', b'37c9c164', b'2824a5f6', b'1adce6ef', b'8ba8b39a',\n",
            "        b'891b62e7', b'e5ba7672', b'f54016b9', b'21ddcdc9', b'b1252a9d',\n",
            "        b'07b5194c', b'', b'3a171ecb', b'c5c50484', b'e8b83407',\n",
            "        b'9727dd16']], dtype=object)>} \n",
            "\n",
            "LABELS: \n",
            " tf.Tensor([0], shape=(1,), dtype=int32)\n"
          ],
          "name": "stdout"
        }
      ]
    },
    {
      "cell_type": "code",
      "metadata": {
        "id": "VN2sJf_v0yg2"
      },
      "source": [
        "numerical_columns = []\n",
        "for i in range(1,13):\n",
        "  numerical_columns.append(tf.feature_column.numeric_column('I{0}'.format(i)))\n",
        "\n",
        "category_columns = []\n",
        "item = tf.feature_column.indicator_column(\n",
        "      tf.feature_column.categorical_column_with_hash_bucket('S1',200))\n",
        "category_columns.append(item)\n"
      ],
      "execution_count": 125,
      "outputs": []
    },
    {
      "cell_type": "code",
      "metadata": {
        "id": "eZWRHsY51MuP",
        "outputId": "ab983422-9324-47d0-a4e5-ab798b2afb86",
        "colab": {
          "base_uri": "https://localhost:8080/",
          "height": 462
        }
      },
      "source": [
        "tf.keras.backend.clear_session()\n",
        "model = tf.keras.Sequential([\n",
        "  tf.keras.layers.DenseFeatures(numerical_columns+category_columns), # Placing the feature into tf.keras.layers.DenseFeatures\n",
        "  #tf.keras.layers.DenseFeatures(numerical_columns),\n",
        "  tf.keras.layers.Dense(1, activation='sigmoid')\n",
        "])\n",
        "\n",
        "model.compile(\n",
        "    loss='binary_crossentropy',\n",
        "    optimizer='adam',\n",
        "    metrics=['AUC'])\n",
        "\n",
        "train_data = ds_train.batch(64).repeat(2).shuffle(200)\n",
        "model.fit(train_data, epochs=10)"
      ],
      "execution_count": 130,
      "outputs": [
        {
          "output_type": "stream",
          "text": [
            "Epoch 1/10\n",
            "WARNING:tensorflow:Layers in a Sequential model should only have a single input tensor, but we receive a <class 'dict'> input: {'I1': <tf.Tensor 'IteratorGetNext:0' shape=(None, 1) dtype=int32>, 'I2': <tf.Tensor 'IteratorGetNext:5' shape=(None, 1) dtype=int32>, 'I3': <tf.Tensor 'IteratorGetNext:6' shape=(None, 1) dtype=int32>, 'I4': <tf.Tensor 'IteratorGetNext:7' shape=(None, 1) dtype=int32>, 'I5': <tf.Tensor 'IteratorGetNext:8' shape=(None, 1) dtype=int32>, 'I6': <tf.Tensor 'IteratorGetNext:9' shape=(None, 1) dtype=int32>, 'I7': <tf.Tensor 'IteratorGetNext:10' shape=(None, 1) dtype=int32>, 'I8': <tf.Tensor 'IteratorGetNext:11' shape=(None, 1) dtype=int32>, 'I9': <tf.Tensor 'IteratorGetNext:12' shape=(None, 1) dtype=int32>, 'I10': <tf.Tensor 'IteratorGetNext:1' shape=(None, 1) dtype=int32>, 'I11': <tf.Tensor 'IteratorGetNext:2' shape=(None, 1) dtype=int32>, 'I12': <tf.Tensor 'IteratorGetNext:3' shape=(None, 1) dtype=int32>, 'I13': <tf.Tensor 'IteratorGetNext:4' shape=(None, 1) dtype=int32>, 'S1': <tf.Tensor 'IteratorGetNext:13' shape=(None, None, None) dtype=string>}\n",
            "Consider rewriting this model with the Functional API.\n",
            "WARNING:tensorflow:Layers in a Sequential model should only have a single input tensor, but we receive a <class 'dict'> input: {'I1': <tf.Tensor 'IteratorGetNext:0' shape=(None, 1) dtype=int32>, 'I2': <tf.Tensor 'IteratorGetNext:5' shape=(None, 1) dtype=int32>, 'I3': <tf.Tensor 'IteratorGetNext:6' shape=(None, 1) dtype=int32>, 'I4': <tf.Tensor 'IteratorGetNext:7' shape=(None, 1) dtype=int32>, 'I5': <tf.Tensor 'IteratorGetNext:8' shape=(None, 1) dtype=int32>, 'I6': <tf.Tensor 'IteratorGetNext:9' shape=(None, 1) dtype=int32>, 'I7': <tf.Tensor 'IteratorGetNext:10' shape=(None, 1) dtype=int32>, 'I8': <tf.Tensor 'IteratorGetNext:11' shape=(None, 1) dtype=int32>, 'I9': <tf.Tensor 'IteratorGetNext:12' shape=(None, 1) dtype=int32>, 'I10': <tf.Tensor 'IteratorGetNext:1' shape=(None, 1) dtype=int32>, 'I11': <tf.Tensor 'IteratorGetNext:2' shape=(None, 1) dtype=int32>, 'I12': <tf.Tensor 'IteratorGetNext:3' shape=(None, 1) dtype=int32>, 'I13': <tf.Tensor 'IteratorGetNext:4' shape=(None, 1) dtype=int32>, 'S1': <tf.Tensor 'IteratorGetNext:13' shape=(None, None, None) dtype=string>}\n",
            "Consider rewriting this model with the Functional API.\n",
            "32/32 [==============================] - 0s 2ms/step - loss: 61.1663 - auc: 0.5262\n",
            "Epoch 2/10\n",
            "32/32 [==============================] - 0s 2ms/step - loss: 38.7487 - auc: 0.5404\n",
            "Epoch 3/10\n",
            "32/32 [==============================] - 0s 2ms/step - loss: 18.2265 - auc: 0.5510\n",
            "Epoch 4/10\n",
            "32/32 [==============================] - 0s 2ms/step - loss: 3.8172 - auc: 0.5580\n",
            "Epoch 5/10\n",
            "32/32 [==============================] - 0s 2ms/step - loss: 2.7940 - auc: 0.5515\n",
            "Epoch 6/10\n",
            "32/32 [==============================] - 0s 2ms/step - loss: 1.6482 - auc: 0.5647\n",
            "Epoch 7/10\n",
            "32/32 [==============================] - 0s 2ms/step - loss: 0.9769 - auc: 0.6163\n",
            "Epoch 8/10\n",
            "32/32 [==============================] - 0s 2ms/step - loss: 0.7261 - auc: 0.6469\n",
            "Epoch 9/10\n",
            "32/32 [==============================] - 0s 2ms/step - loss: 0.7908 - auc: 0.6494\n",
            "Epoch 10/10\n",
            "32/32 [==============================] - 0s 2ms/step - loss: 0.9172 - auc: 0.6684\n"
          ],
          "name": "stdout"
        },
        {
          "output_type": "execute_result",
          "data": {
            "text/plain": [
              "<tensorflow.python.keras.callbacks.History at 0x7fc0ded90fd0>"
            ]
          },
          "metadata": {
            "tags": []
          },
          "execution_count": 130
        }
      ]
    },
    {
      "cell_type": "code",
      "metadata": {
        "id": "MWrsv5EFwcPs",
        "outputId": "87623180-6231-4fb3-a94a-f8dc15d776e3",
        "colab": {
          "base_uri": "https://localhost:8080/",
          "height": 156
        }
      },
      "source": [
        "def _example(categories):\n",
        "    f = tf.train.Feature(bytes_list=tf.train.BytesList(value=categories))\n",
        "    fs = tf.train.Features(feature={'color': f})\n",
        "    return tf.train.Example(features=fs).SerializeToString()\n",
        "\n",
        "vocab = ['red', 'green', 'blue']\n",
        "feature_spec = {'color': tf.io.VarLenFeature(tf.string)}\n",
        "\n",
        "\n",
        "batch = [_example([b'red', b'green']),\n",
        "         _example([]),\n",
        "         _example([b'blue', b'blue', b'yellow']),\n",
        "         _example(3*[b'red'] + 1*[b'green'])]\n",
        "\"\"\"\n",
        "batch = [_example([b'red']),\n",
        "         _example([]),\n",
        "         _example([b'blue']),\n",
        "         _example([b'green'])]\n",
        "\"\"\"\n",
        "batch_parsed = tf.io.parse_example(batch, feature_spec)\n",
        "\n",
        "#color_feature = tf.feature_column.categorical_column_with_vocabulary_list('color', vocab)\n",
        "color_feature = tf.feature_column.categorical_column_with_hash_bucket('color',10)\n",
        "color_feature = tf.feature_column.indicator_column(color_feature)\n",
        "print(color_feature)\n",
        "\n",
        "print(batch)\n",
        "result_tensor = tf.compat.v1.feature_column.input_layer(batch_parsed, [color_feature])\n",
        "print(result_tensor)\n"
      ],
      "execution_count": 29,
      "outputs": [
        {
          "output_type": "stream",
          "text": [
            "IndicatorColumn(categorical_column=HashedCategoricalColumn(key='color', hash_bucket_size=10, dtype=tf.string))\n",
            "[b'\\n\\x19\\n\\x17\\n\\x05color\\x12\\x0e\\n\\x0c\\n\\x03red\\n\\x05green', b'\\n\\r\\n\\x0b\\n\\x05color\\x12\\x02\\n\\x00', b'\\n!\\n\\x1f\\n\\x05color\\x12\\x16\\n\\x14\\n\\x04blue\\n\\x04blue\\n\\x06yellow', b'\\n#\\n!\\n\\x05color\\x12\\x18\\n\\x16\\n\\x03red\\n\\x03red\\n\\x03red\\n\\x05green']\n",
            "tf.Tensor(\n",
            "[[1. 0. 0. 0. 1. 0. 0. 0. 0. 0.]\n",
            " [0. 0. 0. 0. 0. 0. 0. 0. 0. 0.]\n",
            " [0. 1. 0. 0. 0. 2. 0. 0. 0. 0.]\n",
            " [3. 0. 0. 0. 1. 0. 0. 0. 0. 0.]], shape=(4, 10), dtype=float32)\n"
          ],
          "name": "stdout"
        }
      ]
    }
  ]
}