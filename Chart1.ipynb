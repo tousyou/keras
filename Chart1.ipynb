{
  "nbformat": 4,
  "nbformat_minor": 0,
  "metadata": {
    "colab": {
      "name": "Chart1.ipynb",
      "provenance": [],
      "collapsed_sections": [],
      "authorship_tag": "ABX9TyNoVSONl9Tr59oZJo3xmbLZ",
      "include_colab_link": true
    },
    "kernelspec": {
      "name": "python3",
      "display_name": "Python 3"
    }
  },
  "cells": [
    {
      "cell_type": "markdown",
      "metadata": {
        "id": "view-in-github",
        "colab_type": "text"
      },
      "source": [
        "<a href=\"https://colab.research.google.com/github/tousyou/keras/blob/master/Chart1.ipynb\" target=\"_parent\"><img src=\"https://colab.research.google.com/assets/colab-badge.svg\" alt=\"Open In Colab\"/></a>"
      ]
    },
    {
      "cell_type": "code",
      "metadata": {
        "id": "u-Ob5tpHaIeU",
        "colab_type": "code",
        "colab": {
          "base_uri": "https://localhost:8080/",
          "height": 159
        },
        "outputId": "b448fc12-f291-4b50-f3f0-a57b6f2edb98"
      },
      "source": [
        "import numpy as np \n",
        "import pandas as pd \n",
        "import matplotlib.pyplot as plt\n",
        "import tensorflow as tf \n",
        "from tensorflow.keras import models,layers\n",
        "\n",
        "COLUMN_NAME_LIST = ['PassengerId','Survived','Pclass','Name','Sex','Age','SibSp','Parch','Ticket','Fare','Cabin','Embarked']\n",
        "LABEL_NAME = ['Survived']\n",
        "\n",
        "dftrain_raw = pd.read_csv('https://raw.githubusercontent.com/tousyou/eat_tensorflow2_in_30_days/master/data/titanic/train.csv')\n",
        "dftest_raw = pd.read_csv('https://raw.githubusercontent.com/tousyou/eat_tensorflow2_in_30_days/master/data/titanic/test.csv')\n",
        "\n",
        "dftrain_raw.head(3)\n"
      ],
      "execution_count": 2,
      "outputs": [
        {
          "output_type": "execute_result",
          "data": {
            "text/html": [
              "<div>\n",
              "<style scoped>\n",
              "    .dataframe tbody tr th:only-of-type {\n",
              "        vertical-align: middle;\n",
              "    }\n",
              "\n",
              "    .dataframe tbody tr th {\n",
              "        vertical-align: top;\n",
              "    }\n",
              "\n",
              "    .dataframe thead th {\n",
              "        text-align: right;\n",
              "    }\n",
              "</style>\n",
              "<table border=\"1\" class=\"dataframe\">\n",
              "  <thead>\n",
              "    <tr style=\"text-align: right;\">\n",
              "      <th></th>\n",
              "      <th>PassengerId</th>\n",
              "      <th>Survived</th>\n",
              "      <th>Pclass</th>\n",
              "      <th>Name</th>\n",
              "      <th>Sex</th>\n",
              "      <th>Age</th>\n",
              "      <th>SibSp</th>\n",
              "      <th>Parch</th>\n",
              "      <th>Ticket</th>\n",
              "      <th>Fare</th>\n",
              "      <th>Cabin</th>\n",
              "      <th>Embarked</th>\n",
              "    </tr>\n",
              "  </thead>\n",
              "  <tbody>\n",
              "    <tr>\n",
              "      <th>0</th>\n",
              "      <td>493</td>\n",
              "      <td>0</td>\n",
              "      <td>1</td>\n",
              "      <td>Molson, Mr. Harry Markland</td>\n",
              "      <td>male</td>\n",
              "      <td>55.0</td>\n",
              "      <td>0</td>\n",
              "      <td>0</td>\n",
              "      <td>113787</td>\n",
              "      <td>30.5000</td>\n",
              "      <td>C30</td>\n",
              "      <td>S</td>\n",
              "    </tr>\n",
              "    <tr>\n",
              "      <th>1</th>\n",
              "      <td>53</td>\n",
              "      <td>1</td>\n",
              "      <td>1</td>\n",
              "      <td>Harper, Mrs. Henry Sleeper (Myna Haxtun)</td>\n",
              "      <td>female</td>\n",
              "      <td>49.0</td>\n",
              "      <td>1</td>\n",
              "      <td>0</td>\n",
              "      <td>PC 17572</td>\n",
              "      <td>76.7292</td>\n",
              "      <td>D33</td>\n",
              "      <td>C</td>\n",
              "    </tr>\n",
              "    <tr>\n",
              "      <th>2</th>\n",
              "      <td>388</td>\n",
              "      <td>1</td>\n",
              "      <td>2</td>\n",
              "      <td>Buss, Miss. Kate</td>\n",
              "      <td>female</td>\n",
              "      <td>36.0</td>\n",
              "      <td>0</td>\n",
              "      <td>0</td>\n",
              "      <td>27849</td>\n",
              "      <td>13.0000</td>\n",
              "      <td>NaN</td>\n",
              "      <td>S</td>\n",
              "    </tr>\n",
              "  </tbody>\n",
              "</table>\n",
              "</div>"
            ],
            "text/plain": [
              "   PassengerId  Survived  Pclass  ...     Fare Cabin  Embarked\n",
              "0          493         0       1  ...  30.5000   C30         S\n",
              "1           53         1       1  ...  76.7292   D33         C\n",
              "2          388         1       2  ...  13.0000   NaN         S\n",
              "\n",
              "[3 rows x 12 columns]"
            ]
          },
          "metadata": {
            "tags": []
          },
          "execution_count": 2
        }
      ]
    },
    {
      "cell_type": "code",
      "metadata": {
        "id": "9-W54ydWAokQ",
        "colab_type": "code",
        "colab": {
          "base_uri": "https://localhost:8080/",
          "height": 34
        },
        "outputId": "1a2ca249-8e57-44aa-a07c-d895e21068eb"
      },
      "source": [
        "pd.unique(dftrain_raw['Embarked'])\n"
      ],
      "execution_count": 76,
      "outputs": [
        {
          "output_type": "execute_result",
          "data": {
            "text/plain": [
              "array(['S', 'C', 'Q', nan], dtype=object)"
            ]
          },
          "metadata": {
            "tags": []
          },
          "execution_count": 76
        }
      ]
    },
    {
      "cell_type": "code",
      "metadata": {
        "id": "SI79U8MOMPfW",
        "colab_type": "code",
        "colab": {
          "base_uri": "https://localhost:8080/",
          "height": 450
        },
        "outputId": "e0905187-543d-427e-be0e-1327439c9c94"
      },
      "source": [
        "dftrain_raw.groupby(by='Cabin').count()"
      ],
      "execution_count": 81,
      "outputs": [
        {
          "output_type": "execute_result",
          "data": {
            "text/html": [
              "<div>\n",
              "<style scoped>\n",
              "    .dataframe tbody tr th:only-of-type {\n",
              "        vertical-align: middle;\n",
              "    }\n",
              "\n",
              "    .dataframe tbody tr th {\n",
              "        vertical-align: top;\n",
              "    }\n",
              "\n",
              "    .dataframe thead th {\n",
              "        text-align: right;\n",
              "    }\n",
              "</style>\n",
              "<table border=\"1\" class=\"dataframe\">\n",
              "  <thead>\n",
              "    <tr style=\"text-align: right;\">\n",
              "      <th></th>\n",
              "      <th>PassengerId</th>\n",
              "      <th>Survived</th>\n",
              "      <th>Pclass</th>\n",
              "      <th>Name</th>\n",
              "      <th>Sex</th>\n",
              "      <th>Age</th>\n",
              "      <th>SibSp</th>\n",
              "      <th>Parch</th>\n",
              "      <th>Ticket</th>\n",
              "      <th>Fare</th>\n",
              "      <th>Embarked</th>\n",
              "    </tr>\n",
              "    <tr>\n",
              "      <th>Cabin</th>\n",
              "      <th></th>\n",
              "      <th></th>\n",
              "      <th></th>\n",
              "      <th></th>\n",
              "      <th></th>\n",
              "      <th></th>\n",
              "      <th></th>\n",
              "      <th></th>\n",
              "      <th></th>\n",
              "      <th></th>\n",
              "      <th></th>\n",
              "    </tr>\n",
              "  </thead>\n",
              "  <tbody>\n",
              "    <tr>\n",
              "      <th>A10</th>\n",
              "      <td>1</td>\n",
              "      <td>1</td>\n",
              "      <td>1</td>\n",
              "      <td>1</td>\n",
              "      <td>1</td>\n",
              "      <td>1</td>\n",
              "      <td>1</td>\n",
              "      <td>1</td>\n",
              "      <td>1</td>\n",
              "      <td>1</td>\n",
              "      <td>1</td>\n",
              "    </tr>\n",
              "    <tr>\n",
              "      <th>A14</th>\n",
              "      <td>1</td>\n",
              "      <td>1</td>\n",
              "      <td>1</td>\n",
              "      <td>1</td>\n",
              "      <td>1</td>\n",
              "      <td>0</td>\n",
              "      <td>1</td>\n",
              "      <td>1</td>\n",
              "      <td>1</td>\n",
              "      <td>1</td>\n",
              "      <td>1</td>\n",
              "    </tr>\n",
              "    <tr>\n",
              "      <th>A16</th>\n",
              "      <td>1</td>\n",
              "      <td>1</td>\n",
              "      <td>1</td>\n",
              "      <td>1</td>\n",
              "      <td>1</td>\n",
              "      <td>1</td>\n",
              "      <td>1</td>\n",
              "      <td>1</td>\n",
              "      <td>1</td>\n",
              "      <td>1</td>\n",
              "      <td>1</td>\n",
              "    </tr>\n",
              "    <tr>\n",
              "      <th>A19</th>\n",
              "      <td>1</td>\n",
              "      <td>1</td>\n",
              "      <td>1</td>\n",
              "      <td>1</td>\n",
              "      <td>1</td>\n",
              "      <td>0</td>\n",
              "      <td>1</td>\n",
              "      <td>1</td>\n",
              "      <td>1</td>\n",
              "      <td>1</td>\n",
              "      <td>1</td>\n",
              "    </tr>\n",
              "    <tr>\n",
              "      <th>A20</th>\n",
              "      <td>1</td>\n",
              "      <td>1</td>\n",
              "      <td>1</td>\n",
              "      <td>1</td>\n",
              "      <td>1</td>\n",
              "      <td>1</td>\n",
              "      <td>1</td>\n",
              "      <td>1</td>\n",
              "      <td>1</td>\n",
              "      <td>1</td>\n",
              "      <td>1</td>\n",
              "    </tr>\n",
              "    <tr>\n",
              "      <th>...</th>\n",
              "      <td>...</td>\n",
              "      <td>...</td>\n",
              "      <td>...</td>\n",
              "      <td>...</td>\n",
              "      <td>...</td>\n",
              "      <td>...</td>\n",
              "      <td>...</td>\n",
              "      <td>...</td>\n",
              "      <td>...</td>\n",
              "      <td>...</td>\n",
              "      <td>...</td>\n",
              "    </tr>\n",
              "    <tr>\n",
              "      <th>F2</th>\n",
              "      <td>2</td>\n",
              "      <td>2</td>\n",
              "      <td>2</td>\n",
              "      <td>2</td>\n",
              "      <td>2</td>\n",
              "      <td>2</td>\n",
              "      <td>2</td>\n",
              "      <td>2</td>\n",
              "      <td>2</td>\n",
              "      <td>2</td>\n",
              "      <td>2</td>\n",
              "    </tr>\n",
              "    <tr>\n",
              "      <th>F33</th>\n",
              "      <td>3</td>\n",
              "      <td>3</td>\n",
              "      <td>3</td>\n",
              "      <td>3</td>\n",
              "      <td>3</td>\n",
              "      <td>3</td>\n",
              "      <td>3</td>\n",
              "      <td>3</td>\n",
              "      <td>3</td>\n",
              "      <td>3</td>\n",
              "      <td>3</td>\n",
              "    </tr>\n",
              "    <tr>\n",
              "      <th>F4</th>\n",
              "      <td>1</td>\n",
              "      <td>1</td>\n",
              "      <td>1</td>\n",
              "      <td>1</td>\n",
              "      <td>1</td>\n",
              "      <td>1</td>\n",
              "      <td>1</td>\n",
              "      <td>1</td>\n",
              "      <td>1</td>\n",
              "      <td>1</td>\n",
              "      <td>1</td>\n",
              "    </tr>\n",
              "    <tr>\n",
              "      <th>G6</th>\n",
              "      <td>2</td>\n",
              "      <td>2</td>\n",
              "      <td>2</td>\n",
              "      <td>2</td>\n",
              "      <td>2</td>\n",
              "      <td>2</td>\n",
              "      <td>2</td>\n",
              "      <td>2</td>\n",
              "      <td>2</td>\n",
              "      <td>2</td>\n",
              "      <td>2</td>\n",
              "    </tr>\n",
              "    <tr>\n",
              "      <th>T</th>\n",
              "      <td>1</td>\n",
              "      <td>1</td>\n",
              "      <td>1</td>\n",
              "      <td>1</td>\n",
              "      <td>1</td>\n",
              "      <td>1</td>\n",
              "      <td>1</td>\n",
              "      <td>1</td>\n",
              "      <td>1</td>\n",
              "      <td>1</td>\n",
              "      <td>1</td>\n",
              "    </tr>\n",
              "  </tbody>\n",
              "</table>\n",
              "<p>128 rows × 11 columns</p>\n",
              "</div>"
            ],
            "text/plain": [
              "       PassengerId  Survived  Pclass  Name  ...  Parch  Ticket  Fare  Embarked\n",
              "Cabin                                       ...                               \n",
              "A10              1         1       1     1  ...      1       1     1         1\n",
              "A14              1         1       1     1  ...      1       1     1         1\n",
              "A16              1         1       1     1  ...      1       1     1         1\n",
              "A19              1         1       1     1  ...      1       1     1         1\n",
              "A20              1         1       1     1  ...      1       1     1         1\n",
              "...            ...       ...     ...   ...  ...    ...     ...   ...       ...\n",
              "F2               2         2       2     2  ...      2       2     2         2\n",
              "F33              3         3       3     3  ...      3       3     3         3\n",
              "F4               1         1       1     1  ...      1       1     1         1\n",
              "G6               2         2       2     2  ...      2       2     2         2\n",
              "T                1         1       1     1  ...      1       1     1         1\n",
              "\n",
              "[128 rows x 11 columns]"
            ]
          },
          "metadata": {
            "tags": []
          },
          "execution_count": 81
        }
      ]
    },
    {
      "cell_type": "code",
      "metadata": {
        "id": "-Z7qIwiDN4XN",
        "colab_type": "code",
        "colab": {
          "base_uri": "https://localhost:8080/",
          "height": 142
        },
        "outputId": "f26eb2f9-4f26-47c3-e21a-67d5c6be407f"
      },
      "source": [
        "dftrain_raw.groupby(by='Embarked')['Sex'].size().reset_index(name='Size')"
      ],
      "execution_count": 78,
      "outputs": [
        {
          "output_type": "execute_result",
          "data": {
            "text/html": [
              "<div>\n",
              "<style scoped>\n",
              "    .dataframe tbody tr th:only-of-type {\n",
              "        vertical-align: middle;\n",
              "    }\n",
              "\n",
              "    .dataframe tbody tr th {\n",
              "        vertical-align: top;\n",
              "    }\n",
              "\n",
              "    .dataframe thead th {\n",
              "        text-align: right;\n",
              "    }\n",
              "</style>\n",
              "<table border=\"1\" class=\"dataframe\">\n",
              "  <thead>\n",
              "    <tr style=\"text-align: right;\">\n",
              "      <th></th>\n",
              "      <th>Embarked</th>\n",
              "      <th>Size</th>\n",
              "    </tr>\n",
              "  </thead>\n",
              "  <tbody>\n",
              "    <tr>\n",
              "      <th>0</th>\n",
              "      <td>C</td>\n",
              "      <td>131</td>\n",
              "    </tr>\n",
              "    <tr>\n",
              "      <th>1</th>\n",
              "      <td>Q</td>\n",
              "      <td>62</td>\n",
              "    </tr>\n",
              "    <tr>\n",
              "      <th>2</th>\n",
              "      <td>S</td>\n",
              "      <td>517</td>\n",
              "    </tr>\n",
              "  </tbody>\n",
              "</table>\n",
              "</div>"
            ],
            "text/plain": [
              "  Embarked  Size\n",
              "0        C   131\n",
              "1        Q    62\n",
              "2        S   517"
            ]
          },
          "metadata": {
            "tags": []
          },
          "execution_count": 78
        }
      ]
    },
    {
      "cell_type": "code",
      "metadata": {
        "id": "DympwG2FZfMQ",
        "colab_type": "code",
        "colab": {}
      },
      "source": [
        "def preprocessing(dfdata):\n",
        "\n",
        "    dfresult= pd.DataFrame()\n",
        "\n",
        "    #Pclass\n",
        "    dfPclass = pd.get_dummies(dfdata['Pclass'])\n",
        "    dfPclass.columns = ['Pclass_' +str(x) for x in dfPclass.columns ]\n",
        "    dfresult = pd.concat([dfresult,dfPclass],axis = 1)\n",
        "    \n",
        "    #Sex\n",
        "    dfSex = pd.get_dummies(dfdata['Sex'])\n",
        "    dfresult = pd.concat([dfresult,dfSex],axis = 1)\n",
        "\n",
        "    #Age\n",
        "    dfresult['Age'] = dfdata['Age'].fillna(0)\n",
        "    dfresult['Age_null'] = pd.isna(dfdata['Age']).astype('int32')\n",
        "\n",
        "    #SibSp,Parch,Fare\n",
        "    dfresult['SibSp'] = dfdata['SibSp']\n",
        "    dfresult['Parch'] = dfdata['Parch']\n",
        "    dfresult['Fare'] = dfdata['Fare']\n",
        "\n",
        "    #Carbin\n",
        "    dfresult['Cabin_null'] =  pd.isna(dfdata['Cabin']).astype('int32')\n",
        "    #dfCabin = pd.get_dummies(dfdata['Cabin'],dummy_na=True)\n",
        "    #dfCabin.columns = ['Cabin_' + str(x) for x in dfCabin.columns]\n",
        "    #dfresult = pd.concat([dfresult,dfCabin],axis=1)\n",
        "\n",
        "    #Embarked\n",
        "    dfEmbarked = pd.get_dummies(dfdata['Embarked'],dummy_na=True)\n",
        "    dfEmbarked.columns = ['Embarked_' + str(x) for x in dfEmbarked.columns]\n",
        "    dfresult = pd.concat([dfresult,dfEmbarked],axis = 1)\n",
        "\n",
        "    return(dfresult)"
      ],
      "execution_count": 4,
      "outputs": []
    },
    {
      "cell_type": "code",
      "metadata": {
        "id": "KX6V4V6lajFo",
        "colab_type": "code",
        "colab": {
          "base_uri": "https://localhost:8080/",
          "height": 51
        },
        "outputId": "fc7d8103-b065-420d-a3e5-024e3bd23b0b"
      },
      "source": [
        "x_train = preprocessing(dftrain_raw)\n",
        "y_train = dftrain_raw['Survived'].values\n",
        "\n",
        "x_test = preprocessing(dftest_raw)\n",
        "y_test = dftest_raw['Survived'].values\n",
        "\n",
        "print(\"x_train.shape =\", x_train.shape )\n",
        "print(\"x_test.shape =\", x_test.shape )"
      ],
      "execution_count": 5,
      "outputs": [
        {
          "output_type": "stream",
          "text": [
            "x_train.shape = (712, 15)\n",
            "x_test.shape = (179, 15)\n"
          ],
          "name": "stdout"
        }
      ]
    },
    {
      "cell_type": "code",
      "metadata": {
        "id": "c8X5Luf5wdkj",
        "colab_type": "code",
        "colab": {
          "base_uri": "https://localhost:8080/",
          "height": 187
        },
        "outputId": "f9507be5-01cc-4bd3-dade-4d7e137d1187"
      },
      "source": [
        "tf.keras.backend.clear_session()\n",
        "\n",
        "model = models.Sequential()\n",
        "model.add(layers.Dense(1,activation = 'sigmoid',input_shape=(15,)))\n",
        "\n",
        "model.summary()\n"
      ],
      "execution_count": 53,
      "outputs": [
        {
          "output_type": "stream",
          "text": [
            "Model: \"sequential\"\n",
            "_________________________________________________________________\n",
            "Layer (type)                 Output Shape              Param #   \n",
            "=================================================================\n",
            "dense (Dense)                (None, 1)                 16        \n",
            "=================================================================\n",
            "Total params: 16\n",
            "Trainable params: 16\n",
            "Non-trainable params: 0\n",
            "_________________________________________________________________\n"
          ],
          "name": "stdout"
        }
      ]
    },
    {
      "cell_type": "code",
      "metadata": {
        "id": "nFP39uehwqxl",
        "colab_type": "code",
        "colab": {
          "base_uri": "https://localhost:8080/",
          "height": 1000
        },
        "outputId": "e289e90d-42d9-452d-b24c-2389f7e8f9ca"
      },
      "source": [
        "# Use binary cross entropy loss function for binary classification\n",
        "model.compile(\n",
        "            optimizer='Nadam',\n",
        "#            optimizer=tf.keras.optimizers.SGD(learning_rate=0.001),\n",
        "            loss='binary_crossentropy',\n",
        "            metrics=['AUC'])\n",
        "\n",
        "history = model.fit(x_train,y_train,\n",
        "                    batch_size= 64,\n",
        "                    epochs= 100,\n",
        "                    validation_split=0.2 #Split part of the training data for validation\n",
        "                   )"
      ],
      "execution_count": 54,
      "outputs": [
        {
          "output_type": "stream",
          "text": [
            "Epoch 1/100\n",
            "9/9 [==============================] - 0s 32ms/step - loss: 7.4094 - auc: 0.4767 - val_loss: 7.4500 - val_auc: 0.4559\n",
            "Epoch 2/100\n",
            "9/9 [==============================] - 0s 3ms/step - loss: 7.1951 - auc: 0.4760 - val_loss: 7.2047 - val_auc: 0.4510\n",
            "Epoch 3/100\n",
            "9/9 [==============================] - 0s 3ms/step - loss: 6.9592 - auc: 0.4803 - val_loss: 6.9442 - val_auc: 0.4502\n",
            "Epoch 4/100\n",
            "9/9 [==============================] - 0s 3ms/step - loss: 6.7081 - auc: 0.4814 - val_loss: 6.6793 - val_auc: 0.4567\n",
            "Epoch 5/100\n",
            "9/9 [==============================] - 0s 3ms/step - loss: 6.4604 - auc: 0.4828 - val_loss: 6.4132 - val_auc: 0.4550\n",
            "Epoch 6/100\n",
            "9/9 [==============================] - 0s 3ms/step - loss: 6.2147 - auc: 0.4849 - val_loss: 6.1492 - val_auc: 0.4542\n",
            "Epoch 7/100\n",
            "9/9 [==============================] - 0s 3ms/step - loss: 5.9702 - auc: 0.4864 - val_loss: 5.8900 - val_auc: 0.4531\n",
            "Epoch 8/100\n",
            "9/9 [==============================] - 0s 3ms/step - loss: 5.7156 - auc: 0.4886 - val_loss: 5.6409 - val_auc: 0.4661\n",
            "Epoch 9/100\n",
            "9/9 [==============================] - 0s 4ms/step - loss: 5.4787 - auc: 0.4883 - val_loss: 5.3914 - val_auc: 0.4676\n",
            "Epoch 10/100\n",
            "9/9 [==============================] - 0s 3ms/step - loss: 5.2411 - auc: 0.4910 - val_loss: 5.1464 - val_auc: 0.4598\n",
            "Epoch 11/100\n",
            "9/9 [==============================] - 0s 4ms/step - loss: 5.0083 - auc: 0.4946 - val_loss: 4.9071 - val_auc: 0.4545\n",
            "Epoch 12/100\n",
            "9/9 [==============================] - 0s 4ms/step - loss: 4.7793 - auc: 0.4946 - val_loss: 4.6760 - val_auc: 0.4542\n",
            "Epoch 13/100\n",
            "9/9 [==============================] - 0s 3ms/step - loss: 4.5559 - auc: 0.4989 - val_loss: 4.4579 - val_auc: 0.4522\n",
            "Epoch 14/100\n",
            "9/9 [==============================] - 0s 3ms/step - loss: 4.3421 - auc: 0.5023 - val_loss: 4.2551 - val_auc: 0.4555\n",
            "Epoch 15/100\n",
            "9/9 [==============================] - 0s 3ms/step - loss: 4.1375 - auc: 0.5052 - val_loss: 4.0626 - val_auc: 0.4689\n",
            "Epoch 16/100\n",
            "9/9 [==============================] - 0s 3ms/step - loss: 3.9354 - auc: 0.5137 - val_loss: 3.8802 - val_auc: 0.4761\n",
            "Epoch 17/100\n",
            "9/9 [==============================] - 0s 3ms/step - loss: 3.7473 - auc: 0.5197 - val_loss: 3.7217 - val_auc: 0.4833\n",
            "Epoch 18/100\n",
            "9/9 [==============================] - 0s 4ms/step - loss: 3.5792 - auc: 0.5215 - val_loss: 3.6003 - val_auc: 0.4937\n",
            "Epoch 19/100\n",
            "9/9 [==============================] - 0s 3ms/step - loss: 3.4350 - auc: 0.5286 - val_loss: 3.4916 - val_auc: 0.4958\n",
            "Epoch 20/100\n",
            "9/9 [==============================] - 0s 4ms/step - loss: 3.3007 - auc: 0.5304 - val_loss: 3.3880 - val_auc: 0.4971\n",
            "Epoch 21/100\n",
            "9/9 [==============================] - 0s 3ms/step - loss: 3.1727 - auc: 0.5337 - val_loss: 3.2886 - val_auc: 0.5047\n",
            "Epoch 22/100\n",
            "9/9 [==============================] - 0s 3ms/step - loss: 3.0482 - auc: 0.5353 - val_loss: 3.1933 - val_auc: 0.5118\n",
            "Epoch 23/100\n",
            "9/9 [==============================] - 0s 3ms/step - loss: 2.9324 - auc: 0.5466 - val_loss: 3.1008 - val_auc: 0.5228\n",
            "Epoch 24/100\n",
            "9/9 [==============================] - 0s 3ms/step - loss: 2.8224 - auc: 0.5517 - val_loss: 3.0118 - val_auc: 0.5201\n",
            "Epoch 25/100\n",
            "9/9 [==============================] - 0s 3ms/step - loss: 2.7138 - auc: 0.5602 - val_loss: 2.9280 - val_auc: 0.5332\n",
            "Epoch 26/100\n",
            "9/9 [==============================] - 0s 4ms/step - loss: 2.6185 - auc: 0.5661 - val_loss: 2.8463 - val_auc: 0.5445\n",
            "Epoch 27/100\n",
            "9/9 [==============================] - 0s 6ms/step - loss: 2.5293 - auc: 0.5685 - val_loss: 2.7682 - val_auc: 0.5479\n",
            "Epoch 28/100\n",
            "9/9 [==============================] - 0s 4ms/step - loss: 2.4437 - auc: 0.5784 - val_loss: 2.6942 - val_auc: 0.5458\n",
            "Epoch 29/100\n",
            "9/9 [==============================] - 0s 4ms/step - loss: 2.3665 - auc: 0.5810 - val_loss: 2.6236 - val_auc: 0.5489\n",
            "Epoch 30/100\n",
            "9/9 [==============================] - 0s 4ms/step - loss: 2.2958 - auc: 0.5874 - val_loss: 2.5558 - val_auc: 0.5500\n",
            "Epoch 31/100\n",
            "9/9 [==============================] - 0s 4ms/step - loss: 2.2268 - auc: 0.5906 - val_loss: 2.4916 - val_auc: 0.5560\n",
            "Epoch 32/100\n",
            "9/9 [==============================] - 0s 4ms/step - loss: 2.1627 - auc: 0.5979 - val_loss: 2.4307 - val_auc: 0.5574\n",
            "Epoch 33/100\n",
            "9/9 [==============================] - 0s 4ms/step - loss: 2.1018 - auc: 0.5989 - val_loss: 2.3727 - val_auc: 0.5654\n",
            "Epoch 34/100\n",
            "9/9 [==============================] - 0s 4ms/step - loss: 2.0452 - auc: 0.6026 - val_loss: 2.3174 - val_auc: 0.5755\n",
            "Epoch 35/100\n",
            "9/9 [==============================] - 0s 6ms/step - loss: 1.9903 - auc: 0.6039 - val_loss: 2.2646 - val_auc: 0.5836\n",
            "Epoch 36/100\n",
            "9/9 [==============================] - 0s 4ms/step - loss: 1.9375 - auc: 0.6041 - val_loss: 2.2142 - val_auc: 0.5865\n",
            "Epoch 37/100\n",
            "9/9 [==============================] - 0s 4ms/step - loss: 1.8883 - auc: 0.6088 - val_loss: 2.1654 - val_auc: 0.5868\n",
            "Epoch 38/100\n",
            "9/9 [==============================] - 0s 4ms/step - loss: 1.8408 - auc: 0.6122 - val_loss: 2.1178 - val_auc: 0.5912\n",
            "Epoch 39/100\n",
            "9/9 [==============================] - 0s 4ms/step - loss: 1.7950 - auc: 0.6149 - val_loss: 2.0719 - val_auc: 0.5953\n",
            "Epoch 40/100\n",
            "9/9 [==============================] - 0s 4ms/step - loss: 1.7508 - auc: 0.6188 - val_loss: 2.0268 - val_auc: 0.5992\n",
            "Epoch 41/100\n",
            "9/9 [==============================] - 0s 5ms/step - loss: 1.7087 - auc: 0.6207 - val_loss: 1.9824 - val_auc: 0.6008\n",
            "Epoch 42/100\n",
            "9/9 [==============================] - 0s 5ms/step - loss: 1.6665 - auc: 0.6241 - val_loss: 1.9397 - val_auc: 0.5978\n",
            "Epoch 43/100\n",
            "9/9 [==============================] - 0s 5ms/step - loss: 1.6281 - auc: 0.6278 - val_loss: 1.8965 - val_auc: 0.5989\n",
            "Epoch 44/100\n",
            "9/9 [==============================] - 0s 4ms/step - loss: 1.5879 - auc: 0.6301 - val_loss: 1.8552 - val_auc: 0.6007\n",
            "Epoch 45/100\n",
            "9/9 [==============================] - 0s 4ms/step - loss: 1.5500 - auc: 0.6326 - val_loss: 1.8144 - val_auc: 0.6048\n",
            "Epoch 46/100\n",
            "9/9 [==============================] - 0s 4ms/step - loss: 1.5146 - auc: 0.6361 - val_loss: 1.7736 - val_auc: 0.6116\n",
            "Epoch 47/100\n",
            "9/9 [==============================] - 0s 4ms/step - loss: 1.4781 - auc: 0.6359 - val_loss: 1.7334 - val_auc: 0.6129\n",
            "Epoch 48/100\n",
            "9/9 [==============================] - 0s 5ms/step - loss: 1.4423 - auc: 0.6421 - val_loss: 1.6941 - val_auc: 0.6145\n",
            "Epoch 49/100\n",
            "9/9 [==============================] - 0s 4ms/step - loss: 1.4074 - auc: 0.6455 - val_loss: 1.6554 - val_auc: 0.6139\n",
            "Epoch 50/100\n",
            "9/9 [==============================] - 0s 4ms/step - loss: 1.3739 - auc: 0.6487 - val_loss: 1.6174 - val_auc: 0.6159\n",
            "Epoch 51/100\n",
            "9/9 [==============================] - 0s 7ms/step - loss: 1.3410 - auc: 0.6511 - val_loss: 1.5796 - val_auc: 0.6150\n",
            "Epoch 52/100\n",
            "9/9 [==============================] - 0s 4ms/step - loss: 1.3072 - auc: 0.6535 - val_loss: 1.5422 - val_auc: 0.6190\n",
            "Epoch 53/100\n",
            "9/9 [==============================] - 0s 4ms/step - loss: 1.2757 - auc: 0.6557 - val_loss: 1.5044 - val_auc: 0.6178\n",
            "Epoch 54/100\n",
            "9/9 [==============================] - 0s 4ms/step - loss: 1.2431 - auc: 0.6589 - val_loss: 1.4679 - val_auc: 0.6205\n",
            "Epoch 55/100\n",
            "9/9 [==============================] - 0s 5ms/step - loss: 1.2125 - auc: 0.6586 - val_loss: 1.4320 - val_auc: 0.6207\n",
            "Epoch 56/100\n",
            "9/9 [==============================] - 0s 4ms/step - loss: 1.1819 - auc: 0.6620 - val_loss: 1.3962 - val_auc: 0.6218\n",
            "Epoch 57/100\n",
            "9/9 [==============================] - 0s 5ms/step - loss: 1.1519 - auc: 0.6634 - val_loss: 1.3606 - val_auc: 0.6224\n",
            "Epoch 58/100\n",
            "9/9 [==============================] - 0s 4ms/step - loss: 1.1225 - auc: 0.6645 - val_loss: 1.3256 - val_auc: 0.6239\n",
            "Epoch 59/100\n",
            "9/9 [==============================] - 0s 4ms/step - loss: 1.0940 - auc: 0.6663 - val_loss: 1.2908 - val_auc: 0.6272\n",
            "Epoch 60/100\n",
            "9/9 [==============================] - 0s 4ms/step - loss: 1.0655 - auc: 0.6684 - val_loss: 1.2569 - val_auc: 0.6273\n",
            "Epoch 61/100\n",
            "9/9 [==============================] - 0s 5ms/step - loss: 1.0380 - auc: 0.6697 - val_loss: 1.2235 - val_auc: 0.6281\n",
            "Epoch 62/100\n",
            "9/9 [==============================] - 0s 5ms/step - loss: 1.0105 - auc: 0.6719 - val_loss: 1.1910 - val_auc: 0.6299\n",
            "Epoch 63/100\n",
            "9/9 [==============================] - 0s 4ms/step - loss: 0.9839 - auc: 0.6738 - val_loss: 1.1589 - val_auc: 0.6317\n",
            "Epoch 64/100\n",
            "9/9 [==============================] - 0s 5ms/step - loss: 0.9585 - auc: 0.6768 - val_loss: 1.1272 - val_auc: 0.6343\n",
            "Epoch 65/100\n",
            "9/9 [==============================] - 0s 4ms/step - loss: 0.9326 - auc: 0.6808 - val_loss: 1.0966 - val_auc: 0.6365\n",
            "Epoch 66/100\n",
            "9/9 [==============================] - 0s 4ms/step - loss: 0.9088 - auc: 0.6824 - val_loss: 1.0662 - val_auc: 0.6379\n",
            "Epoch 67/100\n",
            "9/9 [==============================] - 0s 4ms/step - loss: 0.8850 - auc: 0.6840 - val_loss: 1.0363 - val_auc: 0.6385\n",
            "Epoch 68/100\n",
            "9/9 [==============================] - 0s 5ms/step - loss: 0.8621 - auc: 0.6860 - val_loss: 1.0071 - val_auc: 0.6387\n",
            "Epoch 69/100\n",
            "9/9 [==============================] - 0s 4ms/step - loss: 0.8397 - auc: 0.6885 - val_loss: 0.9790 - val_auc: 0.6399\n",
            "Epoch 70/100\n",
            "9/9 [==============================] - 0s 5ms/step - loss: 0.8175 - auc: 0.6913 - val_loss: 0.9522 - val_auc: 0.6416\n",
            "Epoch 71/100\n",
            "9/9 [==============================] - 0s 4ms/step - loss: 0.7977 - auc: 0.6933 - val_loss: 0.9255 - val_auc: 0.6434\n",
            "Epoch 72/100\n",
            "9/9 [==============================] - 0s 5ms/step - loss: 0.7767 - auc: 0.6988 - val_loss: 0.9009 - val_auc: 0.6443\n",
            "Epoch 73/100\n",
            "9/9 [==============================] - 0s 4ms/step - loss: 0.7580 - auc: 0.7019 - val_loss: 0.8771 - val_auc: 0.6460\n",
            "Epoch 74/100\n",
            "9/9 [==============================] - 0s 4ms/step - loss: 0.7403 - auc: 0.7040 - val_loss: 0.8538 - val_auc: 0.6487\n",
            "Epoch 75/100\n",
            "9/9 [==============================] - 0s 5ms/step - loss: 0.7235 - auc: 0.7058 - val_loss: 0.8320 - val_auc: 0.6507\n",
            "Epoch 76/100\n",
            "9/9 [==============================] - 0s 5ms/step - loss: 0.7071 - auc: 0.7089 - val_loss: 0.8112 - val_auc: 0.6528\n",
            "Epoch 77/100\n",
            "9/9 [==============================] - 0s 4ms/step - loss: 0.6921 - auc: 0.7116 - val_loss: 0.7915 - val_auc: 0.6568\n",
            "Epoch 78/100\n",
            "9/9 [==============================] - 0s 4ms/step - loss: 0.6775 - auc: 0.7157 - val_loss: 0.7730 - val_auc: 0.6584\n",
            "Epoch 79/100\n",
            "9/9 [==============================] - 0s 4ms/step - loss: 0.6642 - auc: 0.7184 - val_loss: 0.7554 - val_auc: 0.6611\n",
            "Epoch 80/100\n",
            "9/9 [==============================] - 0s 5ms/step - loss: 0.6524 - auc: 0.7216 - val_loss: 0.7389 - val_auc: 0.6646\n",
            "Epoch 81/100\n",
            "9/9 [==============================] - 0s 4ms/step - loss: 0.6405 - auc: 0.7260 - val_loss: 0.7242 - val_auc: 0.6682\n",
            "Epoch 82/100\n",
            "9/9 [==============================] - 0s 4ms/step - loss: 0.6301 - auc: 0.7310 - val_loss: 0.7104 - val_auc: 0.6696\n",
            "Epoch 83/100\n",
            "9/9 [==============================] - 0s 4ms/step - loss: 0.6213 - auc: 0.7349 - val_loss: 0.6975 - val_auc: 0.6728\n",
            "Epoch 84/100\n",
            "9/9 [==============================] - 0s 5ms/step - loss: 0.6121 - auc: 0.7401 - val_loss: 0.6857 - val_auc: 0.6759\n",
            "Epoch 85/100\n",
            "9/9 [==============================] - 0s 5ms/step - loss: 0.6040 - auc: 0.7438 - val_loss: 0.6752 - val_auc: 0.6812\n",
            "Epoch 86/100\n",
            "9/9 [==============================] - 0s 5ms/step - loss: 0.5969 - auc: 0.7494 - val_loss: 0.6655 - val_auc: 0.6829\n",
            "Epoch 87/100\n",
            "9/9 [==============================] - 0s 5ms/step - loss: 0.5904 - auc: 0.7532 - val_loss: 0.6564 - val_auc: 0.6877\n",
            "Epoch 88/100\n",
            "9/9 [==============================] - 0s 4ms/step - loss: 0.5847 - auc: 0.7574 - val_loss: 0.6483 - val_auc: 0.6921\n",
            "Epoch 89/100\n",
            "9/9 [==============================] - 0s 4ms/step - loss: 0.5797 - auc: 0.7603 - val_loss: 0.6412 - val_auc: 0.6943\n",
            "Epoch 90/100\n",
            "9/9 [==============================] - 0s 4ms/step - loss: 0.5752 - auc: 0.7640 - val_loss: 0.6347 - val_auc: 0.7002\n",
            "Epoch 91/100\n",
            "9/9 [==============================] - 0s 3ms/step - loss: 0.5704 - auc: 0.7677 - val_loss: 0.6291 - val_auc: 0.7029\n",
            "Epoch 92/100\n",
            "9/9 [==============================] - 0s 4ms/step - loss: 0.5667 - auc: 0.7725 - val_loss: 0.6241 - val_auc: 0.7073\n",
            "Epoch 93/100\n",
            "9/9 [==============================] - 0s 3ms/step - loss: 0.5628 - auc: 0.7752 - val_loss: 0.6189 - val_auc: 0.7112\n",
            "Epoch 94/100\n",
            "9/9 [==============================] - 0s 3ms/step - loss: 0.5595 - auc: 0.7797 - val_loss: 0.6145 - val_auc: 0.7138\n",
            "Epoch 95/100\n",
            "9/9 [==============================] - 0s 3ms/step - loss: 0.5563 - auc: 0.7835 - val_loss: 0.6104 - val_auc: 0.7161\n",
            "Epoch 96/100\n",
            "9/9 [==============================] - 0s 4ms/step - loss: 0.5533 - auc: 0.7861 - val_loss: 0.6069 - val_auc: 0.7175\n",
            "Epoch 97/100\n",
            "9/9 [==============================] - 0s 3ms/step - loss: 0.5508 - auc: 0.7880 - val_loss: 0.6037 - val_auc: 0.7213\n",
            "Epoch 98/100\n",
            "9/9 [==============================] - 0s 4ms/step - loss: 0.5481 - auc: 0.7914 - val_loss: 0.6008 - val_auc: 0.7226\n",
            "Epoch 99/100\n",
            "9/9 [==============================] - 0s 3ms/step - loss: 0.5459 - auc: 0.7957 - val_loss: 0.5979 - val_auc: 0.7255\n",
            "Epoch 100/100\n",
            "9/9 [==============================] - 0s 5ms/step - loss: 0.5434 - auc: 0.7974 - val_loss: 0.5954 - val_auc: 0.7268\n"
          ],
          "name": "stdout"
        }
      ]
    },
    {
      "cell_type": "code",
      "metadata": {
        "id": "MET3dNivxR85",
        "colab_type": "code",
        "colab": {}
      },
      "source": [
        "import matplotlib.pyplot as plt\n",
        "\n",
        "def plot_metric(history, metric):\n",
        "    train_metrics = history.history[metric]\n",
        "    val_metrics = history.history['val_'+metric]\n",
        "    epochs = range(1, len(train_metrics) + 1)\n",
        "    plt.plot(epochs, train_metrics, 'bo--')\n",
        "    plt.plot(epochs, val_metrics, 'ro-')\n",
        "    plt.title('Training and validation '+ metric)\n",
        "    plt.xlabel(\"Epochs\")\n",
        "    plt.ylabel(metric)\n",
        "    plt.legend([\"train_\"+metric, 'val_'+metric])\n",
        "    plt.show()"
      ],
      "execution_count": 30,
      "outputs": []
    },
    {
      "cell_type": "code",
      "metadata": {
        "id": "gK05xyBFxYKp",
        "colab_type": "code",
        "colab": {
          "base_uri": "https://localhost:8080/",
          "height": 295
        },
        "outputId": "f5823527-8bdd-46ab-f0d7-f09c410fcdf4"
      },
      "source": [
        "plot_metric(history,\"loss\")"
      ],
      "execution_count": 55,
      "outputs": [
        {
          "output_type": "display_data",
          "data": {
            "image/png": "[encoded data removed]",
            "text/plain": [
              "<Figure size 432x288 with 1 Axes>"
            ]
          },
          "metadata": {
            "tags": [],
            "needs_background": "light"
          }
        }
      ]
    },
    {
      "cell_type": "code",
      "metadata": {
        "id": "lRY-IwkC-jSw",
        "colab_type": "code",
        "colab": {
          "base_uri": "https://localhost:8080/",
          "height": 187
        },
        "outputId": "f175f5a9-7763-427d-9d16-7489050c752f"
      },
      "source": [
        "#Predict the possiblities\n",
        "model.predict(x_test[0:10])\n",
        "#model(tf.constant(x_test[0:10].values,dtype = tf.float32)) #Identical way"
      ],
      "execution_count": 56,
      "outputs": [
        {
          "output_type": "execute_result",
          "data": {
            "text/plain": [
              "array([[0.649988  ],\n",
              "       [0.35005927],\n",
              "       [0.52435285],\n",
              "       [0.9655341 ],\n",
              "       [0.68999076],\n",
              "       [0.5508632 ],\n",
              "       [0.5203087 ],\n",
              "       [0.85558766],\n",
              "       [0.6771834 ],\n",
              "       [0.20703566]], dtype=float32)"
            ]
          },
          "metadata": {
            "tags": []
          },
          "execution_count": 56
        }
      ]
    },
    {
      "cell_type": "code",
      "metadata": {
        "id": "fnzktSfQCvMZ",
        "colab_type": "code",
        "colab": {
          "base_uri": "https://localhost:8080/",
          "height": 51
        },
        "outputId": "841b2551-c2ad-4ca8-bc9f-3e0cf855901b"
      },
      "source": [
        "model.evaluate(x_test,y_test)"
      ],
      "execution_count": 61,
      "outputs": [
        {
          "output_type": "stream",
          "text": [
            "6/6 [==============================] - 0s 2ms/step - loss: 0.5509 - auc: 0.7536\n"
          ],
          "name": "stdout"
        },
        {
          "output_type": "execute_result",
          "data": {
            "text/plain": [
              "[0.5508809089660645, 0.7536261677742004]"
            ]
          },
          "metadata": {
            "tags": []
          },
          "execution_count": 61
        }
      ]
    },
    {
      "cell_type": "code",
      "metadata": {
        "id": "bHYCWOYj-rlE",
        "colab_type": "code",
        "colab": {
          "base_uri": "https://localhost:8080/",
          "height": 258
        },
        "outputId": "fd85ef51-9404-42aa-bb71-f033aec092a5"
      },
      "source": [
        "#Predict the classes\n",
        "model.predict_classes(x_test[0:10])"
      ],
      "execution_count": 57,
      "outputs": [
        {
          "output_type": "stream",
          "text": [
            "WARNING:tensorflow:From <ipython-input-57-736136dafc33>:2: Sequential.predict_classes (from tensorflow.python.keras.engine.sequential) is deprecated and will be removed after 2021-01-01.\n",
            "Instructions for updating:\n",
            "Please use instead:* `np.argmax(model.predict(x), axis=-1)`,   if your model does multi-class classification   (e.g. if it uses a `softmax` last-layer activation).* `(model.predict(x) > 0.5).astype(\"int32\")`,   if your model does binary classification   (e.g. if it uses a `sigmoid` last-layer activation).\n"
          ],
          "name": "stdout"
        },
        {
          "output_type": "execute_result",
          "data": {
            "text/plain": [
              "array([[1],\n",
              "       [0],\n",
              "       [1],\n",
              "       [1],\n",
              "       [1],\n",
              "       [1],\n",
              "       [1],\n",
              "       [1],\n",
              "       [1],\n",
              "       [0]], dtype=int32)"
            ]
          },
          "metadata": {
            "tags": []
          },
          "execution_count": 57
        }
      ]
    },
    {
      "cell_type": "code",
      "metadata": {
        "id": "f9wrXy1z-0Re",
        "colab_type": "code",
        "colab": {
          "base_uri": "https://localhost:8080/",
          "height": 34
        },
        "outputId": "e0a8b154-3c9a-4b40-a182-97ecdf8f4096"
      },
      "source": [
        "y_test[0:10]\n"
      ],
      "execution_count": 58,
      "outputs": [
        {
          "output_type": "execute_result",
          "data": {
            "text/plain": [
              "array([0, 0, 0, 1, 1, 1, 0, 1, 1, 0])"
            ]
          },
          "metadata": {
            "tags": []
          },
          "execution_count": 58
        }
      ]
    },
    {
      "cell_type": "code",
      "metadata": {
        "id": "4Vyj_qEGBXTg",
        "colab_type": "code",
        "colab": {
          "base_uri": "https://localhost:8080/",
          "height": 34
        },
        "outputId": "745ccb7b-0ae1-4090-aac3-3bdd0aef1e21"
      },
      "source": [
        "m = tf.keras.metrics.AUC(num_thresholds=3)\n",
        "m.update_state(y_test[0:10],model.predict_classes(x_test[0:10]))\n",
        "m.result().numpy()"
      ],
      "execution_count": 60,
      "outputs": [
        {
          "output_type": "execute_result",
          "data": {
            "text/plain": [
              "0.7"
            ]
          },
          "metadata": {
            "tags": []
          },
          "execution_count": 60
        }
      ]
    },
    {
      "cell_type": "code",
      "metadata": {
        "id": "jp911LROM9eS",
        "colab_type": "code",
        "colab": {
          "base_uri": "https://localhost:8080/",
          "height": 51
        },
        "outputId": "15c2a98c-45e5-499c-e179-823b0f245718"
      },
      "source": [
        "# Saving model structure and parameters\n",
        "\n",
        "model.save('./keras_model.h5')  \n",
        "\n",
        "del model  #Deleting current model\n",
        "\n",
        "# Identical to the previous one\n",
        "model = models.load_model('./keras_model.h5')\n",
        "model.evaluate(x_test,y_test)\n"
      ],
      "execution_count": 63,
      "outputs": [
        {
          "output_type": "stream",
          "text": [
            "6/6 [==============================] - 0s 2ms/step - loss: 0.5509 - auc_2: 0.7536\n"
          ],
          "name": "stdout"
        },
        {
          "output_type": "execute_result",
          "data": {
            "text/plain": [
              "[0.5508809089660645, 0.7536261677742004]"
            ]
          },
          "metadata": {
            "tags": []
          },
          "execution_count": 63
        }
      ]
    },
    {
      "cell_type": "code",
      "metadata": {
        "id": "6SfswXFqNiBf",
        "colab_type": "code",
        "colab": {
          "base_uri": "https://localhost:8080/",
          "height": 207
        },
        "outputId": "431c957a-87dc-4ded-f2a5-6d3ab573cbff"
      },
      "source": [
        "# Saving the weights, this way only save the tensors of the weights\n",
        "model.save_weights('./tf_model_weights.ckpt',save_format = \"tf\")\n",
        "# Saving model structure and parameters to a file, so the model allows cross-platform deployment\n",
        "\n",
        "model.save('./tf_model_savedmodel', save_format=\"tf\")\n",
        "print('export saved model.')\n",
        "\n",
        "model_loaded = tf.keras.models.load_model('./tf_model_savedmodel')\n",
        "model_loaded.evaluate(x_test,y_test)"
      ],
      "execution_count": 64,
      "outputs": [
        {
          "output_type": "stream",
          "text": [
            "WARNING:tensorflow:From /usr/local/lib/python3.6/dist-packages/tensorflow/python/training/tracking/tracking.py:111: Model.state_updates (from tensorflow.python.keras.engine.training) is deprecated and will be removed in a future version.\n",
            "Instructions for updating:\n",
            "This property should not be used in TensorFlow 2.0, as updates are applied automatically.\n",
            "WARNING:tensorflow:From /usr/local/lib/python3.6/dist-packages/tensorflow/python/training/tracking/tracking.py:111: Layer.updates (from tensorflow.python.keras.engine.base_layer) is deprecated and will be removed in a future version.\n",
            "Instructions for updating:\n",
            "This property should not be used in TensorFlow 2.0, as updates are applied automatically.\n",
            "INFO:tensorflow:Assets written to: ./tf_model_savedmodel/assets\n",
            "export saved model.\n",
            "6/6 [==============================] - 0s 2ms/step - loss: 0.5509 - auc_2: 0.7536\n"
          ],
          "name": "stdout"
        },
        {
          "output_type": "execute_result",
          "data": {
            "text/plain": [
              "[0.5508809089660645, 0.7536261677742004]"
            ]
          },
          "metadata": {
            "tags": []
          },
          "execution_count": 64
        }
      ]
    },
    {
      "cell_type": "code",
      "metadata": {
        "id": "qlrjOm0iOvTt",
        "colab_type": "code",
        "colab": {
          "base_uri": "https://localhost:8080/",
          "height": 51
        },
        "outputId": "6c5b57a7-cca0-44fa-b2c7-d7a656fb744a"
      },
      "source": [
        "# Saving the model structure\n",
        "json_str = model.to_json()\n",
        "\n",
        "# Retrieving the model structure\n",
        "model_json = models.model_from_json(json_str)\n",
        "# Saving the weights of the model\n",
        "model.save_weights('./keras_model_weight.h5')\n",
        "\n",
        "# Retrieving the model structure\n",
        "model_json = models.model_from_json(json_str)\n",
        "model_json.compile(\n",
        "        optimizer='adam',\n",
        "        loss='binary_crossentropy',\n",
        "        metrics=['AUC']\n",
        "    )\n",
        "\n",
        "# Load the weights\n",
        "model_json.load_weights('./keras_model_weight.h5')\n",
        "model_json.evaluate(x_test,y_test)"
      ],
      "execution_count": 66,
      "outputs": [
        {
          "output_type": "stream",
          "text": [
            "6/6 [==============================] - 0s 1ms/step - loss: 0.5509 - auc: 0.7536\n"
          ],
          "name": "stdout"
        },
        {
          "output_type": "execute_result",
          "data": {
            "text/plain": [
              "[0.5508809089660645, 0.7536261677742004]"
            ]
          },
          "metadata": {
            "tags": []
          },
          "execution_count": 66
        }
      ]
    }
  ]
}