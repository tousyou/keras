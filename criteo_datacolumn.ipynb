{
  "nbformat": 4,
  "nbformat_minor": 0,
  "metadata": {
    "colab": {
      "name": "criteo_datacolumn.ipynb",
      "provenance": [],
      "authorship_tag": "ABX9TyO2dcth1cdtyasyYfZ9cMSq",
      "include_colab_link": true
    },
    "kernelspec": {
      "name": "python3",
      "display_name": "Python 3"
    }
  },
  "cells": [
    {
      "cell_type": "markdown",
      "metadata": {
        "id": "view-in-github",
        "colab_type": "text"
      },
      "source": [
        "<a href=\"https://colab.research.google.com/github/tousyou/keras/blob/master/criteo_datacolumn.ipynb\" target=\"_parent\"><img src=\"https://colab.research.google.com/assets/colab-badge.svg\" alt=\"Open In Colab\"/></a>"
      ]
    },
    {
      "cell_type": "code",
      "metadata": {
        "id": "vxBs73HnPz5m"
      },
      "source": [
        "import tensorflow as tf"
      ],
      "execution_count": 1,
      "outputs": []
    },
    {
      "cell_type": "code",
      "metadata": {
        "id": "TqmdZNOEWO-3",
        "outputId": "5ab233cb-d223-4ad4-ae50-34c2196065c9",
        "colab": {
          "base_uri": "https://localhost:8080/",
          "height": 88
        }
      },
      "source": [
        "COLUMN_NAMES = ['Label']\n",
        "for i in range(1,14):\n",
        "  COLUMN_NAMES.append('I{0:d}'.format(i))\n",
        "for i in range(1,27):\n",
        "  COLUMN_NAMES.append('S{0:d}'.format(i))\n",
        "print(COLUMN_NAMES)\n",
        "\n",
        "LABEL_COLUMN = 'Label'\n",
        "LABELS = [0, 1]\n",
        "print(LABEL_COLUMN)\n",
        "\n",
        "SELECT_COLUMNS = ['Label']\n",
        "for i in range(1,14):\n",
        "  SELECT_COLUMNS.append('I{0:d}'.format(i))\n",
        "print(SELECT_COLUMNS)"
      ],
      "execution_count": 77,
      "outputs": [
        {
          "output_type": "stream",
          "text": [
            "['Label', 'I1', 'I2', 'I3', 'I4', 'I5', 'I6', 'I7', 'I8', 'I9', 'I10', 'I11', 'I12', 'I13', 'S1', 'S2', 'S3', 'S4', 'S5', 'S6', 'S7', 'S8', 'S9', 'S10', 'S11', 'S12', 'S13', 'S14', 'S15', 'S16', 'S17', 'S18', 'S19', 'S20', 'S21', 'S22', 'S23', 'S24', 'S25', 'S26']\n",
            "Label\n",
            "['Label', 'I1', 'I2', 'I3', 'I4', 'I5', 'I6', 'I7', 'I8', 'I9', 'I10', 'I11', 'I12', 'I13']\n"
          ],
          "name": "stdout"
        }
      ]
    },
    {
      "cell_type": "code",
      "metadata": {
        "id": "0Di4KgK2QLKY"
      },
      "source": [
        "def get_dataset(file_path):\n",
        "  dataset = tf.data.experimental.make_csv_dataset(file_path,\n",
        "                                                 batch_size=120,\n",
        "                                                 column_names=COLUMN_NAMES,\n",
        "                                                 label_name=LABEL_COLUMN,\n",
        "                                                 #select_columns=SELECT_COLUMNS,\n",
        "                                                 field_delim='\\t',\n",
        "                                                 #shuffle=False,\n",
        "                                                  num_epochs=1)\n",
        "  return dataset\n",
        "\n",
        "ds_train = get_dataset('./sample_data/criteo.txt')\n",
        "ds_test = get_dataset('./sample_data/criteo.txt')\n",
        "\n",
        "#examples, labels = next(iter(ds_train)) # 第一个批次\n",
        "#print(\"EXAMPLES: \\n\", examples, \"\\n\")\n",
        "#print(\"LABELS: \\n\", labels)"
      ],
      "execution_count": 86,
      "outputs": []
    },
    {
      "cell_type": "code",
      "metadata": {
        "id": "2rm008dXnes3",
        "outputId": "64fdbe1e-b92c-4f1f-9811-0f18c4f3cce5",
        "colab": {
          "base_uri": "https://localhost:8080/",
          "height": 71
        }
      },
      "source": [
        "numerical_columns = []\n",
        "for i in range(1,len(SELECT_COLUMNS)):\n",
        "  numerical_columns.append(tf.feature_column.numeric_column(SELECT_COLUMNS[i]))\n",
        "\n",
        "print(numerical_columns)\n",
        "\n",
        "category_columns = []\n",
        "for i in range(1,27):\n",
        "  item = tf.feature_column.indicator_column(\n",
        "      tf.feature_column.categorical_column_with_hash_bucket('S{0:d}'.format(i),200))\n",
        "  category_columns.append(item)\n",
        "print(category_columns)\n"
      ],
      "execution_count": 79,
      "outputs": [
        {
          "output_type": "stream",
          "text": [
            "[NumericColumn(key='I1', shape=(1,), default_value=None, dtype=tf.float32, normalizer_fn=None), NumericColumn(key='I2', shape=(1,), default_value=None, dtype=tf.float32, normalizer_fn=None), NumericColumn(key='I3', shape=(1,), default_value=None, dtype=tf.float32, normalizer_fn=None), NumericColumn(key='I4', shape=(1,), default_value=None, dtype=tf.float32, normalizer_fn=None), NumericColumn(key='I5', shape=(1,), default_value=None, dtype=tf.float32, normalizer_fn=None), NumericColumn(key='I6', shape=(1,), default_value=None, dtype=tf.float32, normalizer_fn=None), NumericColumn(key='I7', shape=(1,), default_value=None, dtype=tf.float32, normalizer_fn=None), NumericColumn(key='I8', shape=(1,), default_value=None, dtype=tf.float32, normalizer_fn=None), NumericColumn(key='I9', shape=(1,), default_value=None, dtype=tf.float32, normalizer_fn=None), NumericColumn(key='I10', shape=(1,), default_value=None, dtype=tf.float32, normalizer_fn=None), NumericColumn(key='I11', shape=(1,), default_value=None, dtype=tf.float32, normalizer_fn=None), NumericColumn(key='I12', shape=(1,), default_value=None, dtype=tf.float32, normalizer_fn=None), NumericColumn(key='I13', shape=(1,), default_value=None, dtype=tf.float32, normalizer_fn=None)]\n",
            "[IndicatorColumn(categorical_column=HashedCategoricalColumn(key='S1', hash_bucket_size=200, dtype=tf.string)), IndicatorColumn(categorical_column=HashedCategoricalColumn(key='S2', hash_bucket_size=200, dtype=tf.string)), IndicatorColumn(categorical_column=HashedCategoricalColumn(key='S3', hash_bucket_size=200, dtype=tf.string)), IndicatorColumn(categorical_column=HashedCategoricalColumn(key='S4', hash_bucket_size=200, dtype=tf.string)), IndicatorColumn(categorical_column=HashedCategoricalColumn(key='S5', hash_bucket_size=200, dtype=tf.string)), IndicatorColumn(categorical_column=HashedCategoricalColumn(key='S6', hash_bucket_size=200, dtype=tf.string)), IndicatorColumn(categorical_column=HashedCategoricalColumn(key='S7', hash_bucket_size=200, dtype=tf.string)), IndicatorColumn(categorical_column=HashedCategoricalColumn(key='S8', hash_bucket_size=200, dtype=tf.string)), IndicatorColumn(categorical_column=HashedCategoricalColumn(key='S9', hash_bucket_size=200, dtype=tf.string)), IndicatorColumn(categorical_column=HashedCategoricalColumn(key='S10', hash_bucket_size=200, dtype=tf.string)), IndicatorColumn(categorical_column=HashedCategoricalColumn(key='S11', hash_bucket_size=200, dtype=tf.string)), IndicatorColumn(categorical_column=HashedCategoricalColumn(key='S12', hash_bucket_size=200, dtype=tf.string)), IndicatorColumn(categorical_column=HashedCategoricalColumn(key='S13', hash_bucket_size=200, dtype=tf.string)), IndicatorColumn(categorical_column=HashedCategoricalColumn(key='S14', hash_bucket_size=200, dtype=tf.string)), IndicatorColumn(categorical_column=HashedCategoricalColumn(key='S15', hash_bucket_size=200, dtype=tf.string)), IndicatorColumn(categorical_column=HashedCategoricalColumn(key='S16', hash_bucket_size=200, dtype=tf.string)), IndicatorColumn(categorical_column=HashedCategoricalColumn(key='S17', hash_bucket_size=200, dtype=tf.string)), IndicatorColumn(categorical_column=HashedCategoricalColumn(key='S18', hash_bucket_size=200, dtype=tf.string)), IndicatorColumn(categorical_column=HashedCategoricalColumn(key='S19', hash_bucket_size=200, dtype=tf.string)), IndicatorColumn(categorical_column=HashedCategoricalColumn(key='S20', hash_bucket_size=200, dtype=tf.string)), IndicatorColumn(categorical_column=HashedCategoricalColumn(key='S21', hash_bucket_size=200, dtype=tf.string)), IndicatorColumn(categorical_column=HashedCategoricalColumn(key='S22', hash_bucket_size=200, dtype=tf.string)), IndicatorColumn(categorical_column=HashedCategoricalColumn(key='S23', hash_bucket_size=200, dtype=tf.string)), IndicatorColumn(categorical_column=HashedCategoricalColumn(key='S24', hash_bucket_size=200, dtype=tf.string)), IndicatorColumn(categorical_column=HashedCategoricalColumn(key='S25', hash_bucket_size=200, dtype=tf.string)), IndicatorColumn(categorical_column=HashedCategoricalColumn(key='S26', hash_bucket_size=200, dtype=tf.string))]\n"
          ],
          "name": "stdout"
        }
      ]
    },
    {
      "cell_type": "code",
      "metadata": {
        "id": "aeZ1uNbSuUaZ",
        "outputId": "ee058e53-cb69-46fd-d18d-c684b9ac0799",
        "colab": {
          "base_uri": "https://localhost:8080/",
          "height": 462
        }
      },
      "source": [
        "tf.keras.backend.clear_session()\n",
        "model = tf.keras.Sequential([\n",
        "  tf.keras.layers.DenseFeatures(numerical_columns+category_columns), # Placing the feature into tf.keras.layers.DenseFeatures\n",
        "  tf.keras.layers.Dense(1, activation='sigmoid')\n",
        "])\n",
        "\n",
        "model.compile(\n",
        "    loss='binary_crossentropy',\n",
        "    optimizer='adam',\n",
        "    metrics=['AUC'])\n",
        "\n",
        "train_data = ds_train.shuffle(500)\n",
        "test_data = ds_test\n",
        "\n",
        "model.fit(train_data, epochs=10)"
      ],
      "execution_count": 87,
      "outputs": [
        {
          "output_type": "stream",
          "text": [
            "Epoch 1/10\n",
            "WARNING:tensorflow:Layers in a Sequential model should only have a single input tensor, but we receive a <class 'collections.OrderedDict'> input: OrderedDict([('I1', <tf.Tensor 'ExpandDims:0' shape=(None, 1) dtype=int32>), ('I2', <tf.Tensor 'ExpandDims_5:0' shape=(None, 1) dtype=int32>), ('I3', <tf.Tensor 'ExpandDims_6:0' shape=(None, 1) dtype=int32>), ('I4', <tf.Tensor 'ExpandDims_7:0' shape=(None, 1) dtype=int32>), ('I5', <tf.Tensor 'ExpandDims_8:0' shape=(None, 1) dtype=int32>), ('I6', <tf.Tensor 'ExpandDims_9:0' shape=(None, 1) dtype=int32>), ('I7', <tf.Tensor 'ExpandDims_10:0' shape=(None, 1) dtype=int32>), ('I8', <tf.Tensor 'ExpandDims_11:0' shape=(None, 1) dtype=int32>), ('I9', <tf.Tensor 'ExpandDims_12:0' shape=(None, 1) dtype=int32>), ('I10', <tf.Tensor 'ExpandDims_1:0' shape=(None, 1) dtype=int32>), ('I11', <tf.Tensor 'ExpandDims_2:0' shape=(None, 1) dtype=int32>), ('I12', <tf.Tensor 'ExpandDims_3:0' shape=(None, 1) dtype=int32>), ('I13', <tf.Tensor 'ExpandDims_4:0' shape=(None, 1) dtype=int32>), ('S1', <tf.Tensor 'ExpandDims_13:0' shape=(None, 1) dtype=string>), ('S2', <tf.Tensor 'ExpandDims_24:0' shape=(None, 1) dtype=string>), ('S3', <tf.Tensor 'ExpandDims_32:0' shape=(None, 1) dtype=string>), ('S4', <tf.Tensor 'ExpandDims_33:0' shape=(None, 1) dtype=string>), ('S5', <tf.Tensor 'ExpandDims_34:0' shape=(None, 1) dtype=string>), ('S6', <tf.Tensor 'ExpandDims_35:0' shape=(None, 1) dtype=string>), ('S7', <tf.Tensor 'ExpandDims_36:0' shape=(None, 1) dtype=string>), ('S8', <tf.Tensor 'ExpandDims_37:0' shape=(None, 1) dtype=string>), ('S9', <tf.Tensor 'ExpandDims_38:0' shape=(None, 1) dtype=string>), ('S10', <tf.Tensor 'ExpandDims_14:0' shape=(None, 1) dtype=string>), ('S11', <tf.Tensor 'ExpandDims_15:0' shape=(None, 1) dtype=string>), ('S12', <tf.Tensor 'ExpandDims_16:0' shape=(None, 1) dtype=string>), ('S13', <tf.Tensor 'ExpandDims_17:0' shape=(None, 1) dtype=string>), ('S14', <tf.Tensor 'ExpandDims_18:0' shape=(None, 1) dtype=string>), ('S15', <tf.Tensor 'ExpandDims_19:0' shape=(None, 1) dtype=string>), ('S16', <tf.Tensor 'ExpandDims_20:0' shape=(None, 1) dtype=string>), ('S17', <tf.Tensor 'ExpandDims_21:0' shape=(None, 1) dtype=string>), ('S18', <tf.Tensor 'ExpandDims_22:0' shape=(None, 1) dtype=string>), ('S19', <tf.Tensor 'ExpandDims_23:0' shape=(None, 1) dtype=string>), ('S20', <tf.Tensor 'ExpandDims_25:0' shape=(None, 1) dtype=string>), ('S21', <tf.Tensor 'ExpandDims_26:0' shape=(None, 1) dtype=string>), ('S22', <tf.Tensor 'ExpandDims_27:0' shape=(None, 1) dtype=string>), ('S23', <tf.Tensor 'ExpandDims_28:0' shape=(None, 1) dtype=string>), ('S24', <tf.Tensor 'ExpandDims_29:0' shape=(None, 1) dtype=string>), ('S25', <tf.Tensor 'ExpandDims_30:0' shape=(None, 1) dtype=string>), ('S26', <tf.Tensor 'ExpandDims_31:0' shape=(None, 1) dtype=string>)])\n",
            "Consider rewriting this model with the Functional API.\n",
            "WARNING:tensorflow:Layers in a Sequential model should only have a single input tensor, but we receive a <class 'collections.OrderedDict'> input: OrderedDict([('I1', <tf.Tensor 'ExpandDims:0' shape=(None, 1) dtype=int32>), ('I2', <tf.Tensor 'ExpandDims_5:0' shape=(None, 1) dtype=int32>), ('I3', <tf.Tensor 'ExpandDims_6:0' shape=(None, 1) dtype=int32>), ('I4', <tf.Tensor 'ExpandDims_7:0' shape=(None, 1) dtype=int32>), ('I5', <tf.Tensor 'ExpandDims_8:0' shape=(None, 1) dtype=int32>), ('I6', <tf.Tensor 'ExpandDims_9:0' shape=(None, 1) dtype=int32>), ('I7', <tf.Tensor 'ExpandDims_10:0' shape=(None, 1) dtype=int32>), ('I8', <tf.Tensor 'ExpandDims_11:0' shape=(None, 1) dtype=int32>), ('I9', <tf.Tensor 'ExpandDims_12:0' shape=(None, 1) dtype=int32>), ('I10', <tf.Tensor 'ExpandDims_1:0' shape=(None, 1) dtype=int32>), ('I11', <tf.Tensor 'ExpandDims_2:0' shape=(None, 1) dtype=int32>), ('I12', <tf.Tensor 'ExpandDims_3:0' shape=(None, 1) dtype=int32>), ('I13', <tf.Tensor 'ExpandDims_4:0' shape=(None, 1) dtype=int32>), ('S1', <tf.Tensor 'ExpandDims_13:0' shape=(None, 1) dtype=string>), ('S2', <tf.Tensor 'ExpandDims_24:0' shape=(None, 1) dtype=string>), ('S3', <tf.Tensor 'ExpandDims_32:0' shape=(None, 1) dtype=string>), ('S4', <tf.Tensor 'ExpandDims_33:0' shape=(None, 1) dtype=string>), ('S5', <tf.Tensor 'ExpandDims_34:0' shape=(None, 1) dtype=string>), ('S6', <tf.Tensor 'ExpandDims_35:0' shape=(None, 1) dtype=string>), ('S7', <tf.Tensor 'ExpandDims_36:0' shape=(None, 1) dtype=string>), ('S8', <tf.Tensor 'ExpandDims_37:0' shape=(None, 1) dtype=string>), ('S9', <tf.Tensor 'ExpandDims_38:0' shape=(None, 1) dtype=string>), ('S10', <tf.Tensor 'ExpandDims_14:0' shape=(None, 1) dtype=string>), ('S11', <tf.Tensor 'ExpandDims_15:0' shape=(None, 1) dtype=string>), ('S12', <tf.Tensor 'ExpandDims_16:0' shape=(None, 1) dtype=string>), ('S13', <tf.Tensor 'ExpandDims_17:0' shape=(None, 1) dtype=string>), ('S14', <tf.Tensor 'ExpandDims_18:0' shape=(None, 1) dtype=string>), ('S15', <tf.Tensor 'ExpandDims_19:0' shape=(None, 1) dtype=string>), ('S16', <tf.Tensor 'ExpandDims_20:0' shape=(None, 1) dtype=string>), ('S17', <tf.Tensor 'ExpandDims_21:0' shape=(None, 1) dtype=string>), ('S18', <tf.Tensor 'ExpandDims_22:0' shape=(None, 1) dtype=string>), ('S19', <tf.Tensor 'ExpandDims_23:0' shape=(None, 1) dtype=string>), ('S20', <tf.Tensor 'ExpandDims_25:0' shape=(None, 1) dtype=string>), ('S21', <tf.Tensor 'ExpandDims_26:0' shape=(None, 1) dtype=string>), ('S22', <tf.Tensor 'ExpandDims_27:0' shape=(None, 1) dtype=string>), ('S23', <tf.Tensor 'ExpandDims_28:0' shape=(None, 1) dtype=string>), ('S24', <tf.Tensor 'ExpandDims_29:0' shape=(None, 1) dtype=string>), ('S25', <tf.Tensor 'ExpandDims_30:0' shape=(None, 1) dtype=string>), ('S26', <tf.Tensor 'ExpandDims_31:0' shape=(None, 1) dtype=string>)])\n",
            "Consider rewriting this model with the Functional API.\n",
            "9/9 [==============================] - 0s 5ms/step - loss: 21.6733 - auc: 0.4658\n",
            "Epoch 2/10\n",
            "9/9 [==============================] - 0s 5ms/step - loss: 3.7753 - auc: 0.5934\n",
            "Epoch 3/10\n",
            "9/9 [==============================] - 0s 5ms/step - loss: 4.6664 - auc: 0.6029\n",
            "Epoch 4/10\n",
            "9/9 [==============================] - 0s 5ms/step - loss: 4.5184 - auc: 0.6053\n",
            "Epoch 5/10\n",
            "9/9 [==============================] - 0s 4ms/step - loss: 3.8879 - auc: 0.6184\n",
            "Epoch 6/10\n",
            "9/9 [==============================] - 0s 4ms/step - loss: 3.0287 - auc: 0.6270\n",
            "Epoch 7/10\n",
            "9/9 [==============================] - 0s 5ms/step - loss: 1.9252 - auc: 0.6454\n",
            "Epoch 8/10\n",
            "9/9 [==============================] - 0s 4ms/step - loss: 0.9001 - auc: 0.6635\n",
            "Epoch 9/10\n",
            "9/9 [==============================] - 0s 4ms/step - loss: 0.5685 - auc: 0.6898\n",
            "Epoch 10/10\n",
            "9/9 [==============================] - 0s 4ms/step - loss: 0.5627 - auc: 0.6957\n"
          ],
          "name": "stdout"
        },
        {
          "output_type": "execute_result",
          "data": {
            "text/plain": [
              "<tensorflow.python.keras.callbacks.History at 0x7fabe7d014e0>"
            ]
          },
          "metadata": {
            "tags": []
          },
          "execution_count": 87
        }
      ]
    },
    {
      "cell_type": "code",
      "metadata": {
        "id": "LmmI4gvFGFF-",
        "outputId": "3fd16f1b-f039-430a-e20f-910bf6387d8a",
        "colab": {
          "base_uri": "https://localhost:8080/",
          "height": 139
        }
      },
      "source": [
        "test_loss, test_accuracy = model.evaluate(test_data)\n",
        "\n",
        "print('\\n\\nTest Loss {}, Test AUC {}'.format(test_loss, test_accuracy))"
      ],
      "execution_count": 81,
      "outputs": [
        {
          "output_type": "stream",
          "text": [
            "WARNING:tensorflow:Layers in a Sequential model should only have a single input tensor, but we receive a <class 'collections.OrderedDict'> input: OrderedDict([('I1', <tf.Tensor 'ExpandDims:0' shape=(None, 1) dtype=int32>), ('I2', <tf.Tensor 'ExpandDims_5:0' shape=(None, 1) dtype=int32>), ('I3', <tf.Tensor 'ExpandDims_6:0' shape=(None, 1) dtype=int32>), ('I4', <tf.Tensor 'ExpandDims_7:0' shape=(None, 1) dtype=int32>), ('I5', <tf.Tensor 'ExpandDims_8:0' shape=(None, 1) dtype=int32>), ('I6', <tf.Tensor 'ExpandDims_9:0' shape=(None, 1) dtype=int32>), ('I7', <tf.Tensor 'ExpandDims_10:0' shape=(None, 1) dtype=int32>), ('I8', <tf.Tensor 'ExpandDims_11:0' shape=(None, 1) dtype=int32>), ('I9', <tf.Tensor 'ExpandDims_12:0' shape=(None, 1) dtype=int32>), ('I10', <tf.Tensor 'ExpandDims_1:0' shape=(None, 1) dtype=int32>), ('I11', <tf.Tensor 'ExpandDims_2:0' shape=(None, 1) dtype=int32>), ('I12', <tf.Tensor 'ExpandDims_3:0' shape=(None, 1) dtype=int32>), ('I13', <tf.Tensor 'ExpandDims_4:0' shape=(None, 1) dtype=int32>), ('S1', <tf.Tensor 'ExpandDims_13:0' shape=(None, 1) dtype=string>), ('S2', <tf.Tensor 'ExpandDims_24:0' shape=(None, 1) dtype=string>), ('S3', <tf.Tensor 'ExpandDims_32:0' shape=(None, 1) dtype=string>), ('S4', <tf.Tensor 'ExpandDims_33:0' shape=(None, 1) dtype=string>), ('S5', <tf.Tensor 'ExpandDims_34:0' shape=(None, 1) dtype=string>), ('S6', <tf.Tensor 'ExpandDims_35:0' shape=(None, 1) dtype=string>), ('S7', <tf.Tensor 'ExpandDims_36:0' shape=(None, 1) dtype=string>), ('S8', <tf.Tensor 'ExpandDims_37:0' shape=(None, 1) dtype=string>), ('S9', <tf.Tensor 'ExpandDims_38:0' shape=(None, 1) dtype=string>), ('S10', <tf.Tensor 'ExpandDims_14:0' shape=(None, 1) dtype=string>), ('S11', <tf.Tensor 'ExpandDims_15:0' shape=(None, 1) dtype=string>), ('S12', <tf.Tensor 'ExpandDims_16:0' shape=(None, 1) dtype=string>), ('S13', <tf.Tensor 'ExpandDims_17:0' shape=(None, 1) dtype=string>), ('S14', <tf.Tensor 'ExpandDims_18:0' shape=(None, 1) dtype=string>), ('S15', <tf.Tensor 'ExpandDims_19:0' shape=(None, 1) dtype=string>), ('S16', <tf.Tensor 'ExpandDims_20:0' shape=(None, 1) dtype=string>), ('S17', <tf.Tensor 'ExpandDims_21:0' shape=(None, 1) dtype=string>), ('S18', <tf.Tensor 'ExpandDims_22:0' shape=(None, 1) dtype=string>), ('S19', <tf.Tensor 'ExpandDims_23:0' shape=(None, 1) dtype=string>), ('S20', <tf.Tensor 'ExpandDims_25:0' shape=(None, 1) dtype=string>), ('S21', <tf.Tensor 'ExpandDims_26:0' shape=(None, 1) dtype=string>), ('S22', <tf.Tensor 'ExpandDims_27:0' shape=(None, 1) dtype=string>), ('S23', <tf.Tensor 'ExpandDims_28:0' shape=(None, 1) dtype=string>), ('S24', <tf.Tensor 'ExpandDims_29:0' shape=(None, 1) dtype=string>), ('S25', <tf.Tensor 'ExpandDims_30:0' shape=(None, 1) dtype=string>), ('S26', <tf.Tensor 'ExpandDims_31:0' shape=(None, 1) dtype=string>)])\n",
            "Consider rewriting this model with the Functional API.\n",
            "9/9 [==============================] - 0s 7ms/step - loss: 0.4357 - auc: 0.7876\n",
            "\n",
            "\n",
            "Test Loss 0.43565914034843445, Test AUC 0.7876359224319458\n"
          ],
          "name": "stdout"
        }
      ]
    }
  ]
}